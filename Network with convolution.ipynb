{
 "cells": [
  {
   "cell_type": "code",
   "execution_count": 1,
   "metadata": {
    "collapsed": false
   },
   "outputs": [
    {
     "name": "stderr",
     "output_type": "stream",
     "text": [
      "Using TensorFlow backend.\n"
     ]
    }
   ],
   "source": [
    "%matplotlib inline\n",
    "\n",
    "from keras.models import Sequential\n",
    "from keras.layers import Dense, Activation, Flatten\n",
    "\n",
    "from keras.utils import np_utils\n",
    "from scipy import io\n",
    "import numpy as np\n",
    "from sklearn.cross_validation import train_test_split\n",
    "\n",
    "import seaborn as sns\n",
    "sns.set_style(\"white\")"
   ]
  },
  {
   "cell_type": "code",
   "execution_count": 2,
   "metadata": {
    "collapsed": true
   },
   "outputs": [],
   "source": [
    "# load data\n",
    "data = io.loadmat(\"notMNIST_small.mat\")"
   ]
  },
  {
   "cell_type": "code",
   "execution_count": 3,
   "metadata": {
    "collapsed": true
   },
   "outputs": [],
   "source": [
    "# transform data\n",
    "X = data['images']\n",
    "y = data['labels']\n",
    "resolution = 28\n",
    "classes = 10\n",
    "\n",
    "X = np.transpose(X, (2, 0, 1))\n",
    "\n",
    "y = y.astype('int32')\n",
    "X = X.astype('float32') / 255.\n",
    "X = X.reshape(X.shape[0], 1, 28, 28)\n",
    "\n",
    "# 3 -> [0., 0., 0., 2., 0., 0., 0., 0., 0., 0.]\n",
    "Y = np_utils.to_categorical(y, 10)\n",
    "\n",
    "X_train, X_test, Y_train, Y_test = train_test_split(X, Y, test_size=0.20, random_state=42)"
   ]
  },
  {
   "cell_type": "code",
   "execution_count": 4,
   "metadata": {
    "collapsed": true
   },
   "outputs": [],
   "source": [
    "# create the network\n",
    "from keras.layers.core import Dense, Dropout, Activation, Reshape\n",
    "from keras.layers.convolutional import Convolution2D, MaxPooling2D\n",
    "model = Sequential()\n",
    "model.add(Convolution2D(64, 3, 3, border_mode='same', input_shape=(1, 28, 28)))\n",
    "model.add(Flatten())\n",
    "model.add(Dense(512))\n",
    "model.add(Activation('relu')) # An \"activation\" is just a non-linear function applied to the output\n",
    "                              # of the layer above. Here, with a \"rectified linear unit\",\n",
    "                              # we clamp all values below 0 to 0.\n",
    "                           \n",
    "model.add(Dropout(0.2))   # Dropout helps protect the model from memorizing or \"overfitting\" the training data\n",
    "\n",
    "model.add(Dense(512))\n",
    "model.add(Activation('relu'))\n",
    "model.add(Dropout(0.2))\n",
    "\n",
    "model.add(Dense(512))\n",
    "model.add(Activation('relu'))\n",
    "model.add(Dropout(0.2))\n",
    "\n",
    "model.add(Dense(512))\n",
    "model.add(Activation('relu'))\n",
    "model.add(Dropout(0.2))\n",
    "\n",
    "model.add(Dense(10))\n",
    "model.add(Activation('softmax')) # This special \"softmax\" activation among other things,\n",
    "                                 # ensures the output is a valid probaility distribution, that is\n",
    "                                 # that its values are all non-negative and sum to 1.\n",
    "model.compile(loss='categorical_crossentropy', optimizer='adam', metrics=['accuracy'])"
   ]
  },
  {
   "cell_type": "code",
   "execution_count": 5,
   "metadata": {
    "collapsed": false
   },
   "outputs": [
    {
     "name": "stdout",
     "output_type": "stream",
     "text": [
      "      OPERATION           DATA DIMENSIONS   WEIGHTS(N)   WEIGHTS(%)\n",
      "\n",
      "          Input   #####   (1, 28, 28)\n",
      "  Convolution2D    \\|/  -------------------     16192     0.9%\n",
      "                  #####   (1, 28, 64)\n",
      "        Flatten   ||||| -------------------         0     0.0%\n",
      "                  #####   (1792,)\n",
      "          Dense   XXXXX -------------------    918016    53.1%\n",
      "           relu   #####   (512,)\n",
      "        Dropout    | || -------------------         0     0.0%\n",
      "                  #####   (512,)\n",
      "          Dense   XXXXX -------------------    262656    15.2%\n",
      "           relu   #####   (512,)\n",
      "        Dropout    | || -------------------         0     0.0%\n",
      "                  #####   (512,)\n",
      "          Dense   XXXXX -------------------    262656    15.2%\n",
      "           relu   #####   (512,)\n",
      "        Dropout    | || -------------------         0     0.0%\n",
      "                  #####   (512,)\n",
      "          Dense   XXXXX -------------------    262656    15.2%\n",
      "           relu   #####   (512,)\n",
      "        Dropout    | || -------------------         0     0.0%\n",
      "                  #####   (512,)\n",
      "          Dense   XXXXX -------------------      5130     0.3%\n",
      "        softmax   #####   (10,)\n"
     ]
    }
   ],
   "source": [
    "# printout the network\n",
    "from keras_ascii_sequential import sequential_model_to_ascii_printout\n",
    "sequential_model_to_ascii_printout(model)"
   ]
  },
  {
   "cell_type": "code",
   "execution_count": 6,
   "metadata": {
    "collapsed": false
   },
   "outputs": [
    {
     "name": "stdout",
     "output_type": "stream",
     "text": [
      "Train on 14979 samples, validate on 3745 samples\n",
      "Epoch 1/10\n",
      "14979/14979 [==============================] - 25s - loss: 0.5242 - acc: 0.8438 - val_loss: 0.3726 - val_acc: 0.8887\n",
      "Epoch 2/10\n",
      "14979/14979 [==============================] - 25s - loss: 0.3743 - acc: 0.8923 - val_loss: 0.3296 - val_acc: 0.9007\n",
      "Epoch 3/10\n",
      "14979/14979 [==============================] - 24s - loss: 0.3257 - acc: 0.9059 - val_loss: 0.3349 - val_acc: 0.9031\n",
      "Epoch 4/10\n",
      "14979/14979 [==============================] - 23s - loss: 0.3032 - acc: 0.9127 - val_loss: 0.4433 - val_acc: 0.8876\n",
      "Epoch 5/10\n",
      "14979/14979 [==============================] - 23s - loss: 0.2847 - acc: 0.9188 - val_loss: 0.3224 - val_acc: 0.9065\n",
      "Epoch 6/10\n",
      "14979/14979 [==============================] - 23s - loss: 0.2561 - acc: 0.9213 - val_loss: 0.3176 - val_acc: 0.9111\n",
      "Epoch 7/10\n",
      "14979/14979 [==============================] - 24s - loss: 0.2264 - acc: 0.9293 - val_loss: 0.3338 - val_acc: 0.9076\n",
      "Epoch 8/10\n",
      "14979/14979 [==============================] - 24s - loss: 0.2348 - acc: 0.9306 - val_loss: 0.3415 - val_acc: 0.9105\n",
      "Epoch 9/10\n",
      "14979/14979 [==============================] - 24s - loss: 0.2033 - acc: 0.9392 - val_loss: 0.3139 - val_acc: 0.9199\n",
      "Epoch 10/10\n",
      "14979/14979 [==============================] - 24s - loss: 0.2007 - acc: 0.9412 - val_loss: 0.3159 - val_acc: 0.9194\n"
     ]
    }
   ],
   "source": [
    "history = model.fit(X_train, Y_train,\n",
    "                    nb_epoch=10,\n",
    "                    batch_size=32,\n",
    "                    validation_data=(X_test, Y_test))"
   ]
  },
  {
   "cell_type": "code",
   "execution_count": 7,
   "metadata": {
    "collapsed": false
   },
   "outputs": [
    {
     "name": "stdout",
     "output_type": "stream",
     "text": [
      "18720/18724 [============================>.] - ETA: 0s\n",
      "acc: 94.96%\n"
     ]
    }
   ],
   "source": [
    "scores = model.evaluate(X_test, Y_test)\n",
    "print (\"\\n%s: %.2f%%\" % (model.metrics_names[1], scores[1]*100))"
   ]
  },
  {
   "cell_type": "code",
   "execution_count": 12,
   "metadata": {
    "collapsed": true
   },
   "outputs": [],
   "source": [
    "model.save(\"three layers 20 epoch\")"
   ]
  },
  {
   "cell_type": "code",
   "execution_count": 11,
   "metadata": {
    "collapsed": false
   },
   "outputs": [
    {
     "name": "stdout",
     "output_type": "stream",
     "text": [
      "Train on 14979 samples, validate on 3745 samples\n",
      "Epoch 1/5\n",
      "14979/14979 [==============================] - 24s - loss: 0.1744 - acc: 0.9497 - val_loss: 0.3416 - val_acc: 0.9167\n",
      "Epoch 2/5\n",
      "14979/14979 [==============================] - 24s - loss: 0.1555 - acc: 0.9540 - val_loss: 0.3132 - val_acc: 0.9244\n",
      "Epoch 3/5\n",
      "14979/14979 [==============================] - 24s - loss: 0.1384 - acc: 0.9582 - val_loss: 0.3277 - val_acc: 0.9244\n",
      "Epoch 4/5\n",
      "14979/14979 [==============================] - 24s - loss: 0.1268 - acc: 0.9617 - val_loss: 0.4081 - val_acc: 0.9183\n",
      "Epoch 5/5\n",
      "14979/14979 [==============================] - 24s - loss: 0.1522 - acc: 0.9552 - val_loss: 0.4145 - val_acc: 0.9183\n"
     ]
    }
   ],
   "source": [
    "history = model.fit(X_train, Y_train,\n",
    "                    nb_epoch=5,\n",
    "                    batch_size=32,\n",
    "                    validation_data=(X_test, Y_test))"
   ]
  },
  {
   "cell_type": "code",
   "execution_count": null,
   "metadata": {
    "collapsed": true
   },
   "outputs": [],
   "source": []
  },
  {
   "cell_type": "code",
   "execution_count": null,
   "metadata": {
    "collapsed": true
   },
   "outputs": [],
   "source": []
  }
 ],
 "metadata": {
  "kernelspec": {
   "display_name": "Python 3",
   "language": "python",
   "name": "python3"
  },
  "language_info": {
   "codemirror_mode": {
    "name": "ipython",
    "version": 3
   },
   "file_extension": ".py",
   "mimetype": "text/x-python",
   "name": "python",
   "nbconvert_exporter": "python",
   "pygments_lexer": "ipython3",
   "version": "3.5.2+"
  }
 },
 "nbformat": 4,
 "nbformat_minor": 2
}
