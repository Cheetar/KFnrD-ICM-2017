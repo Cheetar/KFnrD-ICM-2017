{
 "cells": [
  {
   "cell_type": "code",
   "execution_count": 12,
   "metadata": {
    "collapsed": false
   },
   "outputs": [],
   "source": [
    "%matplotlib inline\n",
    "\n",
    "from keras.models import Sequential\n",
    "from keras.layers import Dense, Activation, Flatten\n",
    "\n",
    "from keras.utils import np_utils\n",
    "from scipy import io\n",
    "import numpy as np\n",
    "from sklearn.cross_validation import train_test_split\n",
    "\n",
    "import seaborn as sns\n",
    "sns.set_style(\"white\")"
   ]
  },
  {
   "cell_type": "code",
   "execution_count": 13,
   "metadata": {
    "collapsed": true
   },
   "outputs": [],
   "source": [
    "# load data\n",
    "data = io.loadmat(\"notMNIST_small.mat\")"
   ]
  },
  {
   "cell_type": "code",
   "execution_count": 14,
   "metadata": {
    "collapsed": true
   },
   "outputs": [],
   "source": [
    "# transform data\n",
    "X = data['images']\n",
    "y = data['labels']\n",
    "resolution = 28\n",
    "classes = 10\n",
    "\n",
    "X = np.transpose(X, (2, 0, 1))\n",
    "\n",
    "y = y.astype('int32')\n",
    "X = X.astype('float32') / 255.\n",
    "X = X.reshape(X.shape[0], 1, 28, 28)\n",
    "\n",
    "# 3 -> [0., 0., 0., 2., 0., 0., 0., 0., 0., 0.]\n",
    "Y = np_utils.to_categorical(y, 10)\n",
    "\n",
    "X_train, X_test, Y_train, Y_test = train_test_split(X, Y, test_size=0.20, random_state=42)"
   ]
  },
  {
   "cell_type": "code",
   "execution_count": 15,
   "metadata": {
    "collapsed": true
   },
   "outputs": [],
   "source": [
    "# create the network\n",
    "from keras.layers.core import Dense, Dropout, Activation, Reshape\n",
    "from keras.layers.convolutional import Convolution2D, MaxPooling2D\n",
    "model = Sequential()\n",
    "model.add(Convolution2D(64, 3, 3, border_mode='same', input_shape=(1, 28, 28)))\n",
    "model.add(Flatten())\n",
    "model.add(Dense(512))\n",
    "model.add(Activation('relu')) # An \"activation\" is just a non-linear function applied to the output\n",
    "                              # of the layer above. Here, with a \"rectified linear unit\",\n",
    "                              # we clamp all values below 0 to 0.\n",
    "                           \n",
    "model.add(Dropout(0.2))   # Dropout helps protect the model from memorizing or \"overfitting\" the training data\n",
    "\n",
    "model.add(Dense(512))\n",
    "model.add(Activation('relu'))\n",
    "model.add(Dropout(0.2))\n",
    "\n",
    "model.add(Dense(512))\n",
    "model.add(Activation('relu'))\n",
    "model.add(Dropout(0.2))\n",
    "\n",
    "model.add(Dense(10))\n",
    "model.add(Activation('softmax')) # This special \"softmax\" activation among other things,\n",
    "                                 # ensures the output is a valid probaility distribution, that is\n",
    "                                 # that its values are all non-negative and sum to 1.\n",
    "model.compile(loss='categorical_crossentropy', optimizer='adam', metrics=['accuracy'])"
   ]
  },
  {
   "cell_type": "code",
   "execution_count": 16,
   "metadata": {
    "collapsed": false
   },
   "outputs": [
    {
     "name": "stdout",
     "output_type": "stream",
     "text": [
      "      OPERATION           DATA DIMENSIONS   WEIGHTS(N)   WEIGHTS(%)\n",
      "\n",
      "          Input   #####   (1, 28, 28)\n",
      "  Convolution2D    \\|/  -------------------     16192     1.1%\n",
      "                  #####   (1, 28, 64)\n",
      "        Flatten   ||||| -------------------         0     0.0%\n",
      "                  #####   (1792,)\n",
      "          Dense   XXXXX -------------------    918016    62.7%\n",
      "           relu   #####   (512,)\n",
      "        Dropout    | || -------------------         0     0.0%\n",
      "                  #####   (512,)\n",
      "          Dense   XXXXX -------------------    262656    17.9%\n",
      "           relu   #####   (512,)\n",
      "        Dropout    | || -------------------         0     0.0%\n",
      "                  #####   (512,)\n",
      "          Dense   XXXXX -------------------    262656    17.9%\n",
      "           relu   #####   (512,)\n",
      "        Dropout    | || -------------------         0     0.0%\n",
      "                  #####   (512,)\n",
      "          Dense   XXXXX -------------------      5130     0.4%\n",
      "        softmax   #####   (10,)\n"
     ]
    }
   ],
   "source": [
    "# printout the network\n",
    "from keras_ascii_sequential import sequential_model_to_ascii_printout\n",
    "sequential_model_to_ascii_printout(model)"
   ]
  },
  {
   "cell_type": "code",
   "execution_count": 17,
   "metadata": {
    "collapsed": false
   },
   "outputs": [
    {
     "name": "stdout",
     "output_type": "stream",
     "text": [
      "Train on 14979 samples, validate on 3745 samples\n",
      "Epoch 1/10\n",
      "14979/14979 [==============================] - 21s - loss: 0.5100 - acc: 0.8497 - val_loss: 0.3762 - val_acc: 0.8844\n",
      "Epoch 2/10\n",
      "14979/14979 [==============================] - 20s - loss: 0.3539 - acc: 0.8965 - val_loss: 0.3640 - val_acc: 0.8905\n",
      "Epoch 3/10\n",
      "14979/14979 [==============================] - 21s - loss: 0.2973 - acc: 0.9111 - val_loss: 0.3110 - val_acc: 0.9052\n",
      "Epoch 4/10\n",
      "14979/14979 [==============================] - 20s - loss: 0.2669 - acc: 0.9159 - val_loss: 0.2945 - val_acc: 0.9103\n",
      "Epoch 5/10\n",
      "14979/14979 [==============================] - 20s - loss: 0.2460 - acc: 0.9251 - val_loss: 0.3513 - val_acc: 0.8948\n",
      "Epoch 6/10\n",
      "14979/14979 [==============================] - 20s - loss: 0.2279 - acc: 0.9292 - val_loss: 0.2739 - val_acc: 0.9196\n",
      "Epoch 7/10\n",
      "14979/14979 [==============================] - 20s - loss: 0.2039 - acc: 0.9368 - val_loss: 0.2898 - val_acc: 0.9148\n",
      "Epoch 8/10\n",
      "14979/14979 [==============================] - 20s - loss: 0.1982 - acc: 0.9390 - val_loss: 0.2936 - val_acc: 0.9186\n",
      "Epoch 9/10\n",
      "14979/14979 [==============================] - 21s - loss: 0.1750 - acc: 0.9457 - val_loss: 0.2935 - val_acc: 0.9204\n",
      "Epoch 10/10\n",
      "14979/14979 [==============================] - 20s - loss: 0.1623 - acc: 0.9490 - val_loss: 0.2740 - val_acc: 0.9223\n"
     ]
    }
   ],
   "source": [
    "history = model.fit(X_train, Y_train,\n",
    "                    nb_epoch=10,\n",
    "                    batch_size=32,\n",
    "                    validation_data=(X_test, Y_test))"
   ]
  }
 ],
 "metadata": {
  "kernelspec": {
   "display_name": "Python 3",
   "language": "python",
   "name": "python3"
  },
  "language_info": {
   "codemirror_mode": {
    "name": "ipython",
    "version": 3
   },
   "file_extension": ".py",
   "mimetype": "text/x-python",
   "name": "python",
   "nbconvert_exporter": "python",
   "pygments_lexer": "ipython3",
   "version": "3.5.2+"
  }
 },
 "nbformat": 4,
 "nbformat_minor": 2
}
