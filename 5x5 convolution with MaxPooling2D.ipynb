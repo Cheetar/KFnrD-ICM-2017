{
 "cells": [
  {
   "cell_type": "code",
   "execution_count": 13,
   "metadata": {
    "collapsed": false
   },
   "outputs": [],
   "source": [
    "%matplotlib inline\n",
    "\n",
    "from keras.models import Sequential\n",
    "from keras.layers import Dense, Activation, Flatten\n",
    "\n",
    "from keras.utils import np_utils\n",
    "from scipy import io\n",
    "import numpy as np\n",
    "from sklearn.cross_validation import train_test_split\n",
    "\n",
    "import seaborn as sns\n",
    "sns.set_style(\"white\")"
   ]
  },
  {
   "cell_type": "code",
   "execution_count": 2,
   "metadata": {
    "collapsed": true
   },
   "outputs": [],
   "source": [
    "# load data\n",
    "data = io.loadmat(\"notMNIST_small.mat\")"
   ]
  },
  {
   "cell_type": "code",
   "execution_count": 3,
   "metadata": {
    "collapsed": true
   },
   "outputs": [],
   "source": [
    "# transform data\n",
    "X = data['images']\n",
    "y = data['labels']\n",
    "resolution = 28\n",
    "classes = 10\n",
    "\n",
    "X = np.transpose(X, (2, 0, 1))\n",
    "\n",
    "y = y.astype('int32')\n",
    "X = X.astype('float32') / 255.\n",
    "X = X.reshape(X.shape[0], 28, 28, 1)\n",
    "\n",
    "# 3 -> [0., 0., 0., 2., 0., 0., 0., 0., 0., 0.]\n",
    "Y = np_utils.to_categorical(y, 10)\n",
    "\n",
    "X_train, X_test, Y_train, Y_test = train_test_split(X, Y, test_size=0.20, random_state=42)"
   ]
  },
  {
   "cell_type": "code",
   "execution_count": 4,
   "metadata": {
    "collapsed": false
   },
   "outputs": [],
   "source": [
    "# create the network\n",
    "from keras.layers.core import Dense, Dropout, Activation, Reshape\n",
    "from keras.layers.convolutional import Convolution2D, MaxPooling2D\n",
    "model = Sequential()\n",
    "model.add(Convolution2D(32, 5, 5, border_mode='same', input_shape=(28, 28, 1), activation='relu'))\n",
    "model.add(MaxPooling2D(pool_size=(2, 2)))\n",
    "model.add(Dropout(0.2))\n",
    "model.add(Flatten())\n",
    "model.add(Dense(128, activation='relu'))\n",
    "model.add(Dense(10, activation='softmax'))\n",
    "model.compile(loss='categorical_crossentropy', optimizer='adam', metrics=['accuracy'])"
   ]
  },
  {
   "cell_type": "code",
   "execution_count": 5,
   "metadata": {
    "collapsed": false
   },
   "outputs": [
    {
     "name": "stdout",
     "output_type": "stream",
     "text": [
      "      OPERATION           DATA DIMENSIONS   WEIGHTS(N)   WEIGHTS(%)\n",
      "\n",
      "          Input   #####   (28, 28, 1)\n",
      "  Convolution2D    \\|/  -------------------       832     0.1%\n",
      "           relu   #####   (28, 28, 32)\n",
      "   MaxPooling2D   YYYYY -------------------         0     0.0%\n",
      "                  #####   (14, 14, 32)\n",
      "        Dropout    | || -------------------         0     0.0%\n",
      "                  #####   (14, 14, 32)\n",
      "        Flatten   ||||| -------------------         0     0.0%\n",
      "                  #####   (6272,)\n",
      "          Dense   XXXXX -------------------    802944    99.7%\n",
      "           relu   #####   (128,)\n",
      "          Dense   XXXXX -------------------      1290     0.2%\n",
      "        softmax   #####   (10,)\n"
     ]
    }
   ],
   "source": [
    "# printout the network\n",
    "from keras_ascii_sequential import sequential_model_to_ascii_printout\n",
    "sequential_model_to_ascii_printout(model)"
   ]
  },
  {
   "cell_type": "code",
   "execution_count": 6,
   "metadata": {
    "collapsed": false,
    "scrolled": true
   },
   "outputs": [
    {
     "name": "stdout",
     "output_type": "stream",
     "text": [
      "Train on 14979 samples, validate on 3745 samples\n",
      "Epoch 1/10\n",
      "14979/14979 [==============================] - 57s - loss: 0.4088 - acc: 0.8867 - val_loss: 0.2843 - val_acc: 0.9162\n",
      "Epoch 2/10\n",
      "14979/14979 [==============================] - 57s - loss: 0.2161 - acc: 0.9363 - val_loss: 0.2493 - val_acc: 0.9276\n",
      "Epoch 3/10\n",
      "14979/14979 [==============================] - 57s - loss: 0.1579 - acc: 0.9507 - val_loss: 0.2203 - val_acc: 0.9330\n",
      "Epoch 4/10\n",
      "14979/14979 [==============================] - 56s - loss: 0.1140 - acc: 0.9645 - val_loss: 0.2194 - val_acc: 0.9383\n",
      "Epoch 5/10\n",
      "14979/14979 [==============================] - 56s - loss: 0.0867 - acc: 0.9724 - val_loss: 0.2334 - val_acc: 0.9338\n",
      "Epoch 6/10\n",
      "14979/14979 [==============================] - 56s - loss: 0.0640 - acc: 0.9796 - val_loss: 0.2434 - val_acc: 0.9351\n",
      "Epoch 7/10\n",
      "14979/14979 [==============================] - 57s - loss: 0.0463 - acc: 0.9850 - val_loss: 0.2734 - val_acc: 0.9378\n",
      "Epoch 8/10\n",
      "14979/14979 [==============================] - 57s - loss: 0.0425 - acc: 0.9875 - val_loss: 0.2667 - val_acc: 0.9381\n",
      "Epoch 9/10\n",
      "14979/14979 [==============================] - 55s - loss: 0.0313 - acc: 0.9901 - val_loss: 0.3083 - val_acc: 0.9354\n",
      "Epoch 10/10\n",
      "14979/14979 [==============================] - 56s - loss: 0.0347 - acc: 0.9895 - val_loss: 0.3050 - val_acc: 0.9397\n"
     ]
    }
   ],
   "source": [
    "history = model.fit(X_train, Y_train,\n",
    "                    nb_epoch=10,\n",
    "                    batch_size=32,\n",
    "                    validation_data=(X_test, Y_test))"
   ]
  },
  {
   "cell_type": "code",
   "execution_count": 7,
   "metadata": {
    "collapsed": false
   },
   "outputs": [
    {
     "name": "stdout",
     "output_type": "stream",
     "text": [
      "3745/3745 [==============================] - 4s     \n",
      "\n",
      "acc: 93.97%\n"
     ]
    }
   ],
   "source": [
    "scores = model.evaluate(X_test, Y_test)\n",
    "print (\"\\n%s: %.2f%%\" % (model.metrics_names[1], scores[1]*100))"
   ]
  },
  {
   "cell_type": "code",
   "execution_count": 8,
   "metadata": {
    "collapsed": true
   },
   "outputs": [],
   "source": [
    "model.save(\"with pooling conv 5v5\")"
   ]
  },
  {
   "cell_type": "code",
   "execution_count": 9,
   "metadata": {
    "collapsed": false
   },
   "outputs": [
    {
     "name": "stdout",
     "output_type": "stream",
     "text": [
      "Train on 14979 samples, validate on 3745 samples\n",
      "Epoch 1/5\n",
      "14979/14979 [==============================] - 55s - loss: 0.0258 - acc: 0.9930 - val_loss: 0.2973 - val_acc: 0.9386\n",
      "Epoch 2/5\n",
      "14979/14979 [==============================] - 57s - loss: 0.0219 - acc: 0.9941 - val_loss: 0.3395 - val_acc: 0.9372\n",
      "Epoch 3/5\n",
      "14979/14979 [==============================] - 33s - loss: 0.0245 - acc: 0.9926 - val_loss: 0.3784 - val_acc: 0.9316\n",
      "Epoch 4/5\n",
      "14979/14979 [==============================] - 35s - loss: 0.0162 - acc: 0.9955 - val_loss: 0.3628 - val_acc: 0.9405\n",
      "Epoch 5/5\n",
      "14979/14979 [==============================] - 20s - loss: 0.0207 - acc: 0.9931 - val_loss: 0.3688 - val_acc: 0.9348\n"
     ]
    }
   ],
   "source": [
    "history = model.fit(X_train, Y_train,\n",
    "                    nb_epoch=5,\n",
    "                    batch_size=32,\n",
    "                    validation_data=(X_test, Y_test))"
   ]
  },
  {
   "cell_type": "code",
   "execution_count": 10,
   "metadata": {
    "collapsed": false
   },
   "outputs": [
    {
     "name": "stdout",
     "output_type": "stream",
     "text": [
      "Train on 14979 samples, validate on 3745 samples\n",
      "Epoch 1/5\n",
      "14979/14979 [==============================] - 18s - loss: 0.0184 - acc: 0.9945 - val_loss: 0.3526 - val_acc: 0.9367\n",
      "Epoch 2/5\n",
      "14979/14979 [==============================] - 19s - loss: 0.0156 - acc: 0.9957 - val_loss: 0.3943 - val_acc: 0.9332\n",
      "Epoch 3/5\n",
      "14979/14979 [==============================] - 19s - loss: 0.0125 - acc: 0.9959 - val_loss: 0.3909 - val_acc: 0.9367\n",
      "Epoch 4/5\n",
      "14979/14979 [==============================] - 19s - loss: 0.0171 - acc: 0.9954 - val_loss: 0.3541 - val_acc: 0.9394\n",
      "Epoch 5/5\n",
      "14979/14979 [==============================] - 19s - loss: 0.0155 - acc: 0.9952 - val_loss: 0.3788 - val_acc: 0.9381\n"
     ]
    }
   ],
   "source": []
  },
  {
   "cell_type": "code",
   "execution_count": 11,
   "metadata": {
    "collapsed": false
   },
   "outputs": [
    {
     "name": "stdout",
     "output_type": "stream",
     "text": [
      "Train on 14979 samples, validate on 3745 samples\n",
      "Epoch 1/5\n",
      "14979/14979 [==============================] - 19s - loss: 0.0161 - acc: 0.9955 - val_loss: 0.3612 - val_acc: 0.9413\n",
      "Epoch 2/5\n",
      "14979/14979 [==============================] - 19s - loss: 0.0098 - acc: 0.9970 - val_loss: 0.3942 - val_acc: 0.9413\n",
      "Epoch 3/5\n",
      "14979/14979 [==============================] - 19s - loss: 0.0110 - acc: 0.9966 - val_loss: 0.4037 - val_acc: 0.9372\n",
      "Epoch 4/5\n",
      "14979/14979 [==============================] - 19s - loss: 0.0141 - acc: 0.9959 - val_loss: 0.3908 - val_acc: 0.9386\n",
      "Epoch 5/5\n",
      "14979/14979 [==============================] - 19s - loss: 0.0108 - acc: 0.9969 - val_loss: 0.4028 - val_acc: 0.9383\n"
     ]
    }
   ],
   "source": []
  },
  {
   "cell_type": "code",
   "execution_count": 12,
   "metadata": {
    "collapsed": false
   },
   "outputs": [
    {
     "name": "stdout",
     "output_type": "stream",
     "text": [
      "18724/18724 [==============================] - 4s     \n",
      "\n",
      "acc: 98.66%\n"
     ]
    }
   ],
   "source": [
    "scores = model.evaluate(X, Y)\n",
    "print (\"\\n%s: %.2f%%\" % (model.metrics_names[1], scores[1]*100))"
   ]
  },
  {
   "cell_type": "code",
   "execution_count": 14,
   "metadata": {
    "collapsed": false
   },
   "outputs": [
    {
     "name": "stdout",
     "output_type": "stream",
     "text": [
      "Train on 14979 samples, validate on 3745 samples\n",
      "Epoch 1/20\n",
      "14979/14979 [==============================] - 19s - loss: 0.0096 - acc: 0.9969 - val_loss: 0.4139 - val_acc: 0.9378\n",
      "Epoch 2/20\n",
      "14979/14979 [==============================] - 19s - loss: 0.0090 - acc: 0.9976 - val_loss: 0.4180 - val_acc: 0.9375\n",
      "Epoch 3/20\n",
      "14979/14979 [==============================] - 19s - loss: 0.0103 - acc: 0.9972 - val_loss: 0.4400 - val_acc: 0.9407\n",
      "Epoch 4/20\n",
      "14979/14979 [==============================] - 19s - loss: 0.0095 - acc: 0.9964 - val_loss: 0.4269 - val_acc: 0.9391\n",
      "Epoch 5/20\n",
      "14979/14979 [==============================] - 19s - loss: 0.0109 - acc: 0.9967 - val_loss: 0.4479 - val_acc: 0.9378\n",
      "Epoch 6/20\n",
      "14979/14979 [==============================] - 19s - loss: 0.0105 - acc: 0.9970 - val_loss: 0.4532 - val_acc: 0.9378\n",
      "Epoch 7/20\n",
      "14979/14979 [==============================] - 19s - loss: 0.0127 - acc: 0.9959 - val_loss: 0.4380 - val_acc: 0.9391\n",
      "Epoch 8/20\n",
      "14979/14979 [==============================] - 19s - loss: 0.0068 - acc: 0.9979 - val_loss: 0.4261 - val_acc: 0.9381\n",
      "Epoch 9/20\n",
      "14979/14979 [==============================] - 19s - loss: 0.0065 - acc: 0.9976 - val_loss: 0.4189 - val_acc: 0.9423\n",
      "Epoch 10/20\n",
      "14979/14979 [==============================] - 19s - loss: 0.0049 - acc: 0.9985 - val_loss: 0.4080 - val_acc: 0.9421\n",
      "Epoch 11/20\n",
      "14979/14979 [==============================] - 20s - loss: 0.0044 - acc: 0.9989 - val_loss: 0.4261 - val_acc: 0.9402\n",
      "Epoch 12/20\n",
      "14979/14979 [==============================] - 20s - loss: 0.0060 - acc: 0.9979 - val_loss: 0.4112 - val_acc: 0.9431\n",
      "Epoch 13/20\n",
      "14979/14979 [==============================] - 19s - loss: 0.0079 - acc: 0.9975 - val_loss: 0.4577 - val_acc: 0.9421\n",
      "Epoch 14/20\n",
      "14979/14979 [==============================] - 20s - loss: 0.0157 - acc: 0.9953 - val_loss: 0.4412 - val_acc: 0.9375\n",
      "Epoch 15/20\n",
      "14979/14979 [==============================] - 20s - loss: 0.0076 - acc: 0.9975 - val_loss: 0.4677 - val_acc: 0.9405\n",
      "Epoch 16/20\n",
      "14979/14979 [==============================] - 20s - loss: 0.0068 - acc: 0.9980 - val_loss: 0.4562 - val_acc: 0.9410\n",
      "Epoch 17/20\n",
      "14979/14979 [==============================] - 20s - loss: 0.0055 - acc: 0.9984 - val_loss: 0.4863 - val_acc: 0.9434\n",
      "Epoch 18/20\n",
      "14979/14979 [==============================] - 20s - loss: 0.0051 - acc: 0.9988 - val_loss: 0.4919 - val_acc: 0.9372\n",
      "Epoch 19/20\n",
      "14979/14979 [==============================] - 20s - loss: 0.0079 - acc: 0.9977 - val_loss: 0.4764 - val_acc: 0.9367\n",
      "Epoch 20/20\n",
      "14979/14979 [==============================] - 20s - loss: 0.0067 - acc: 0.9981 - val_loss: 0.4937 - val_acc: 0.9418\n"
     ]
    }
   ],
   "source": [
    "history = model.fit(X_train, Y_train,\n",
    "                    nb_epoch=20,\n",
    "                    batch_size=32,\n",
    "                    validation_data=(X_test, Y_test))"
   ]
  },
  {
   "cell_type": "code",
   "execution_count": 15,
   "metadata": {
    "collapsed": true
   },
   "outputs": [],
   "source": [
    "model.save(\"94 procent\")"
   ]
  },
  {
   "cell_type": "code",
   "execution_count": 16,
   "metadata": {
    "collapsed": false
   },
   "outputs": [
    {
     "name": "stdout",
     "output_type": "stream",
     "text": [
      "18720/18724 [============================>.] - ETA: 0s\n",
      "acc: 98.77%\n"
     ]
    }
   ],
   "source": [
    "scores = model.evaluate(X, Y)\n",
    "print (\"\\n%s: %.2f%%\" % (model.metrics_names[1], scores[1]*100))"
   ]
  },
  {
   "cell_type": "code",
   "execution_count": null,
   "metadata": {
    "collapsed": true
   },
   "outputs": [],
   "source": []
  }
 ],
 "metadata": {
  "kernelspec": {
   "display_name": "Python 3",
   "language": "python",
   "name": "python3"
  },
  "language_info": {
   "codemirror_mode": {
    "name": "ipython",
    "version": 3
   },
   "file_extension": ".py",
   "mimetype": "text/x-python",
   "name": "python",
   "nbconvert_exporter": "python",
   "pygments_lexer": "ipython3",
   "version": "3.5.2+"
  }
 },
 "nbformat": 4,
 "nbformat_minor": 2
}
