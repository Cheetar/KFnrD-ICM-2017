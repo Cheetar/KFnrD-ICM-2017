{
 "cells": [
  {
   "cell_type": "code",
   "execution_count": 10,
   "metadata": {
    "collapsed": false
   },
   "outputs": [],
   "source": [
    "%matplotlib inline\n",
    "\n",
    "from keras.models import Sequential\n",
    "from keras.layers import Dense, Activation, Flatten\n",
    "\n",
    "from keras.utils import np_utils\n",
    "from scipy import io\n",
    "import numpy as np\n",
    "from sklearn.cross_validation import train_test_split\n",
    "\n",
    "import seaborn as sns\n",
    "sns.set_style(\"white\")"
   ]
  },
  {
   "cell_type": "code",
   "execution_count": 11,
   "metadata": {
    "collapsed": true
   },
   "outputs": [],
   "source": [
    "# Simple CNN model for CIFAR-10\n",
    "import numpy\n",
    "from keras.datasets import cifar10\n",
    "from keras.models import Sequential\n",
    "from keras.layers import Dense\n",
    "from keras.layers import Dropout\n",
    "from keras.layers import Flatten\n",
    "from keras.constraints import maxnorm\n",
    "from keras.optimizers import SGD\n",
    "from keras.layers.convolutional import Convolution2D\n",
    "from keras.layers.convolutional import MaxPooling2D\n",
    "from keras.utils import np_utils\n",
    "from keras import backend as K\n",
    "K.set_image_dim_ordering('th')"
   ]
  },
  {
   "cell_type": "markdown",
   "metadata": {
    "collapsed": false
   },
   "source": []
  },
  {
   "cell_type": "code",
   "execution_count": 12,
   "metadata": {
    "collapsed": true
   },
   "outputs": [],
   "source": [
    "# load data\n",
    "data = io.loadmat(\"notMNIST_small.mat\")"
   ]
  },
  {
   "cell_type": "code",
   "execution_count": 13,
   "metadata": {
    "collapsed": true
   },
   "outputs": [],
   "source": [
    "# transform data\n",
    "X = data['images']\n",
    "y = data['labels']\n",
    "resolution = 28\n",
    "classes = 10\n",
    "\n",
    "X = np.transpose(X, (2, 0, 1))\n",
    "\n",
    "y = y.astype('int32')\n",
    "X = X.astype('float32') / 255.\n",
    "X = X.reshape(X.shape[0], 1, 28, 28)\n",
    "\n",
    "# 3 -> [0., 0., 0., 2., 0., 0., 0., 0., 0., 0.]\n",
    "Y = np_utils.to_categorical(y, 10)\n",
    "num_classes = 10\n",
    "\n",
    "X_train, X_test, Y_train, Y_test = train_test_split(X, Y, test_size=0.20, random_state=42)"
   ]
  },
  {
   "cell_type": "code",
   "execution_count": 14,
   "metadata": {
    "collapsed": false
   },
   "outputs": [],
   "source": [
    "# Create the model\n",
    "from keras.layers.core import Dense, Dropout, Activation, Reshape\n",
    "from keras.layers.convolutional import Convolution2D, MaxPooling2D\n",
    "model = Sequential()\n",
    "model.add(Convolution2D(32, 7, 7, input_shape=(1, 28, 28), activation='relu', border_mode='same'))\n",
    "model.add(Dropout(0.2))\n",
    "model.add(Convolution2D(32, 7, 7, activation='relu', border_mode='same'))\n",
    "model.add(MaxPooling2D(pool_size=(2, 2)))\n",
    "model.add(Convolution2D(64, 5, 5, activation='relu', border_mode='same'))\n",
    "model.add(Dropout(0.2))\n",
    "model.add(Convolution2D(64, 5, 5, activation='relu', border_mode='same'))\n",
    "model.add(MaxPooling2D(pool_size=(2, 2)))\n",
    "model.add(Convolution2D(128, 3, 3, activation='relu', border_mode='same'))\n",
    "model.add(Dropout(0.2))\n",
    "model.add(Convolution2D(128, 3, 3, activation='relu', border_mode='same'))\n",
    "model.add(MaxPooling2D(pool_size=(2, 2)))\n",
    "model.add(Flatten())\n",
    "model.add(Dropout(0.2))\n",
    "model.add(Dense(1024, activation='relu', W_constraint=maxnorm(3)))\n",
    "model.add(Dropout(0.2))\n",
    "model.add(Dense(512, activation='relu', W_constraint=maxnorm(3)))\n",
    "model.add(Dropout(0.2))\n",
    "model.add(Dense(num_classes, activation='softmax'))\n",
    "# Compile model\n",
    "epochs = 25\n",
    "lrate = 0.01\n",
    "decay = lrate/epochs\n",
    "sgd = SGD(lr=lrate, momentum=0.9, decay=decay, nesterov=False)\n",
    "model.compile(loss='categorical_crossentropy', optimizer=sgd, metrics=['accuracy'])\n",
    "#print(model.summary())"
   ]
  },
  {
   "cell_type": "code",
   "execution_count": 17,
   "metadata": {
    "collapsed": false
   },
   "outputs": [
    {
     "name": "stdout",
     "output_type": "stream",
     "text": [
      "      OPERATION           DATA DIMENSIONS   WEIGHTS(N)   WEIGHTS(%)\n",
      "\n",
      "          Input   #####   (1, 28, 28)\n",
      "  Convolution2D    \\|/  -------------------      1600     0.1%\n",
      "           relu   #####   (32, 28, 28)\n",
      "        Dropout    | || -------------------         0     0.0%\n",
      "                  #####   (32, 28, 28)\n",
      "  Convolution2D    \\|/  -------------------     50208     2.3%\n",
      "           relu   #####   (32, 28, 28)\n",
      "   MaxPooling2D   YYYYY -------------------         0     0.0%\n",
      "                  #####   (32, 14, 14)\n",
      "  Convolution2D    \\|/  -------------------     51264     2.4%\n",
      "           relu   #####   (64, 14, 14)\n",
      "        Dropout    | || -------------------         0     0.0%\n",
      "                  #####   (64, 14, 14)\n",
      "  Convolution2D    \\|/  -------------------    102464     4.8%\n",
      "           relu   #####   (64, 14, 14)\n",
      "   MaxPooling2D   YYYYY -------------------         0     0.0%\n",
      "                  #####   (64, 7, 7)\n",
      "  Convolution2D    \\|/  -------------------     73856     3.5%\n",
      "           relu   #####   (128, 7, 7)\n",
      "        Dropout    | || -------------------         0     0.0%\n",
      "                  #####   (128, 7, 7)\n",
      "  Convolution2D    \\|/  -------------------    147584     6.9%\n",
      "           relu   #####   (128, 7, 7)\n",
      "   MaxPooling2D   YYYYY -------------------         0     0.0%\n",
      "                  #####   (128, 3, 3)\n",
      "        Flatten   ||||| -------------------         0     0.0%\n",
      "                  #####   (1152,)\n",
      "        Dropout    | || -------------------         0     0.0%\n",
      "                  #####   (1152,)\n",
      "          Dense   XXXXX -------------------   1180672    55.2%\n",
      "           relu   #####   (1024,)\n",
      "        Dropout    | || -------------------         0     0.0%\n",
      "                  #####   (1024,)\n",
      "          Dense   XXXXX -------------------    524800    24.6%\n",
      "           relu   #####   (512,)\n",
      "        Dropout    | || -------------------         0     0.0%\n",
      "                  #####   (512,)\n",
      "          Dense   XXXXX -------------------      5130     0.2%\n",
      "        softmax   #####   (10,)\n"
     ]
    }
   ],
   "source": [
    "# printout the network\n",
    "from keras_ascii_sequential import sequential_model_to_ascii_printout\n",
    "sequential_model_to_ascii_printout(model)"
   ]
  },
  {
   "cell_type": "code",
   "execution_count": 18,
   "metadata": {
    "collapsed": false,
    "scrolled": true
   },
   "outputs": [
    {
     "name": "stdout",
     "output_type": "stream",
     "text": [
      "Train on 14979 samples, validate on 3745 samples\n",
      "Epoch 1/10\n",
      "14979/14979 [==============================] - 273s - loss: 0.8154 - acc: 0.7284 - val_loss: 0.3225 - val_acc: 0.9060\n",
      "Epoch 2/10\n",
      "14979/14979 [==============================] - 275s - loss: 0.3026 - acc: 0.9120 - val_loss: 0.2595 - val_acc: 0.9231\n",
      "Epoch 3/10\n",
      "14979/14979 [==============================] - 277s - loss: 0.2422 - acc: 0.9275 - val_loss: 0.2328 - val_acc: 0.9290\n",
      "Epoch 4/10\n",
      "14979/14979 [==============================] - 281s - loss: 0.2004 - acc: 0.9411 - val_loss: 0.2195 - val_acc: 0.9356\n",
      "Epoch 5/10\n",
      "14979/14979 [==============================] - 272s - loss: 0.1742 - acc: 0.9461 - val_loss: 0.1898 - val_acc: 0.9434\n",
      "Epoch 6/10\n",
      "14979/14979 [==============================] - 272s - loss: 0.1630 - acc: 0.9489 - val_loss: 0.1938 - val_acc: 0.9429\n",
      "Epoch 7/10\n",
      "14979/14979 [==============================] - 272s - loss: 0.1392 - acc: 0.9546 - val_loss: 0.1913 - val_acc: 0.9418\n",
      "Epoch 8/10\n",
      "14979/14979 [==============================] - 284s - loss: 0.1277 - acc: 0.9592 - val_loss: 0.1765 - val_acc: 0.9493\n",
      "Epoch 9/10\n",
      "14979/14979 [==============================] - 282s - loss: 0.1187 - acc: 0.9617 - val_loss: 0.1782 - val_acc: 0.9471\n",
      "Epoch 10/10\n",
      "14979/14979 [==============================] - 271s - loss: 0.1061 - acc: 0.9654 - val_loss: 0.1741 - val_acc: 0.9511\n"
     ]
    }
   ],
   "source": [
    "history = model.fit(X_train, Y_train,\n",
    "                    nb_epoch=10,\n",
    "                    batch_size=32,\n",
    "                    validation_data=(X_test, Y_test))"
   ]
  },
  {
   "cell_type": "code",
   "execution_count": 22,
   "metadata": {
    "collapsed": true
   },
   "outputs": [],
   "source": [
    "model.save(\"the best 10 epoch\")"
   ]
  },
  {
   "cell_type": "code",
   "execution_count": 24,
   "metadata": {
    "collapsed": false
   },
   "outputs": [
    {
     "name": "stdout",
     "output_type": "stream",
     "text": [
      "Train on 14979 samples, validate on 3745 samples\n",
      "Epoch 1/10\n",
      "14979/14979 [==============================] - 360s - loss: 0.0966 - acc: 0.9680 - val_loss: 0.1803 - val_acc: 0.9498\n",
      "Epoch 2/10\n",
      "14979/14979 [==============================] - 430s - loss: 0.0889 - acc: 0.9694 - val_loss: 0.1906 - val_acc: 0.9503\n",
      "Epoch 3/10\n",
      "14979/14979 [==============================] - 409s - loss: 0.0839 - acc: 0.9729 - val_loss: 0.1864 - val_acc: 0.9471\n",
      "Epoch 4/10\n",
      "14979/14979 [==============================] - 281s - loss: 0.0743 - acc: 0.9759 - val_loss: 0.1854 - val_acc: 0.9479\n",
      "Epoch 5/10\n",
      "14979/14979 [==============================] - 314s - loss: 0.0736 - acc: 0.9756 - val_loss: 0.1864 - val_acc: 0.9485\n",
      "Epoch 6/10\n",
      "14979/14979 [==============================] - 312s - loss: 0.0670 - acc: 0.9778 - val_loss: 0.1916 - val_acc: 0.9503\n",
      "Epoch 7/10\n",
      "14979/14979 [==============================] - 310s - loss: 0.0623 - acc: 0.9792 - val_loss: 0.2044 - val_acc: 0.9506\n",
      "Epoch 8/10\n",
      "14979/14979 [==============================] - 309s - loss: 0.0552 - acc: 0.9821 - val_loss: 0.2109 - val_acc: 0.9503\n",
      "Epoch 9/10\n",
      "14979/14979 [==============================] - 280s - loss: 0.0606 - acc: 0.9792 - val_loss: 0.2060 - val_acc: 0.9501\n",
      "Epoch 10/10\n",
      "14979/14979 [==============================] - 296s - loss: 0.0524 - acc: 0.9809 - val_loss: 0.2073 - val_acc: 0.9485\n"
     ]
    }
   ],
   "source": [
    "history = model.fit(X_train, Y_train,\n",
    "                    nb_epoch=10,\n",
    "                    batch_size=32,\n",
    "                    validation_data=(X_test, Y_test))"
   ]
  },
  {
   "cell_type": "code",
   "execution_count": 26,
   "metadata": {
    "collapsed": true
   },
   "outputs": [],
   "source": [
    "model.save(\"the best 20 epoch\")"
   ]
  },
  {
   "cell_type": "code",
   "execution_count": 27,
   "metadata": {
    "collapsed": false
   },
   "outputs": [
    {
     "name": "stdout",
     "output_type": "stream",
     "text": [
      "Train on 14979 samples, validate on 3745 samples\n",
      "Epoch 1/10\n",
      "14979/14979 [==============================] - 321s - loss: 0.0485 - acc: 0.9836 - val_loss: 0.2098 - val_acc: 0.9498\n",
      "Epoch 2/10\n",
      "14979/14979 [==============================] - 316s - loss: 0.0438 - acc: 0.9854 - val_loss: 0.2406 - val_acc: 0.9506\n",
      "Epoch 3/10\n",
      "14979/14979 [==============================] - 316s - loss: 0.0417 - acc: 0.9863 - val_loss: 0.2242 - val_acc: 0.9503\n",
      "Epoch 4/10\n",
      "14979/14979 [==============================] - 314s - loss: 0.0414 - acc: 0.9856 - val_loss: 0.2238 - val_acc: 0.9485\n",
      "Epoch 5/10\n",
      "14979/14979 [==============================] - 317s - loss: 0.0382 - acc: 0.9870 - val_loss: 0.2353 - val_acc: 0.9495\n",
      "Epoch 6/10\n",
      "14979/14979 [==============================] - 313s - loss: 0.0427 - acc: 0.9858 - val_loss: 0.2300 - val_acc: 0.9493\n",
      "Epoch 7/10\n",
      "14979/14979 [==============================] - 317s - loss: 0.0365 - acc: 0.9876 - val_loss: 0.2180 - val_acc: 0.9514\n",
      "Epoch 8/10\n",
      "14979/14979 [==============================] - 319s - loss: 0.0316 - acc: 0.9895 - val_loss: 0.2351 - val_acc: 0.9501\n",
      "Epoch 9/10\n",
      "14979/14979 [==============================] - 316s - loss: 0.0291 - acc: 0.9891 - val_loss: 0.2490 - val_acc: 0.9490\n",
      "Epoch 10/10\n",
      "14979/14979 [==============================] - 312s - loss: 0.0280 - acc: 0.9901 - val_loss: 0.2470 - val_acc: 0.9509\n"
     ]
    }
   ],
   "source": [
    "history = model.fit(X_train, Y_train,\n",
    "                    nb_epoch=10,\n",
    "                    batch_size=32,\n",
    "                    validation_data=(X_test, Y_test))"
   ]
  },
  {
   "cell_type": "code",
   "execution_count": 28,
   "metadata": {
    "collapsed": false
   },
   "outputs": [
    {
     "name": "stdout",
     "output_type": "stream",
     "text": [
      "18724/18724 [==============================] - 126s   \n",
      "\n",
      "acc: 98.88%\n"
     ]
    }
   ],
   "source": [
    "scores = model.evaluate(X, Y)\n",
    "print (\"\\n%s: %.2f%%\" % (model.metrics_names[1], scores[1]*100))"
   ]
  },
  {
   "cell_type": "code",
   "execution_count": 29,
   "metadata": {
    "collapsed": true
   },
   "outputs": [],
   "source": [
    "model.save(\"the best 30 epoch\")"
   ]
  }
 ],
 "metadata": {
  "kernelspec": {
   "display_name": "Python 3",
   "language": "python",
   "name": "python3"
  },
  "language_info": {
   "codemirror_mode": {
    "name": "ipython",
    "version": 3
   },
   "file_extension": ".py",
   "mimetype": "text/x-python",
   "name": "python",
   "nbconvert_exporter": "python",
   "pygments_lexer": "ipython3",
   "version": "3.5.2+"
  }
 },
 "nbformat": 4,
 "nbformat_minor": 2
}
